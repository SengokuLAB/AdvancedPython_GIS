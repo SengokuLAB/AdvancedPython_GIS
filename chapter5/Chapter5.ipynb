{
 "nbformat": 4,
 "nbformat_minor": 2,
 "metadata": {
  "language_info": {
   "name": "python",
   "codemirror_mode": {
    "name": "ipython",
    "version": 3
   }
  },
  "orig_nbformat": 2,
  "file_extension": ".py",
  "mimetype": "text/x-python",
  "name": "python",
  "npconvert_exporter": "python",
  "pygments_lexer": "ipython3",
  "version": 3
 },
 "cells": [
  {
   "cell_type": "code",
   "execution_count": null,
   "metadata": {},
   "outputs": [],
   "source": [
    "%matplotlib inline \n",
    "import geopandas as gpd \n",
    "from folium.plugins import MarkerCluster\n",
    "from shapely.geometry import Point\n",
    "#行列計算などのために必要なライブラリ\n",
    "import numpy as np\n",
    "#データの読み込みや前処理に便利なライブラリ\n",
    "import pandas as pd\n",
    "#pandas で日本語を読み込むためのライブラリ\n",
    "import codecs\n",
    "#PySAL\n",
    "from pysal.lib import weights\n",
    "from pysal.model import spreg\n",
    "import json"
   ]
  },
  {
   "cell_type": "code",
   "execution_count": null,
   "metadata": {},
   "outputs": [],
   "source": [
    "name_ds = '不動産価格'\n",
    "\n",
    "with codecs.open('pseudo_rent_data_new_analysis_utf8.csv', \"r\", \"\n",
    "Shift-JIS\", \"ignore\") as file:\n",
    "    df = pd.read_csv(file)"
   ]
  },
  {
   "cell_type": "code",
   "execution_count": null,
   "metadata": {},
   "outputs": [],
   "source": []
  }
 ]
}