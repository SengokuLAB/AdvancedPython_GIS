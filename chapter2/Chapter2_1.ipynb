{
  "nbformat": 4,
  "nbformat_minor": 0,
  "metadata": {
    "colab": {
      "name": "Chapter2_1_colab.ipynb",
      "version": "0.3.2",
      "provenance": []
    },
    "kernelspec": {
      "name": "python3",
      "display_name": "Python 3"
    }
  },
  "cells": [
    {
      "cell_type": "code",
      "execution_count": 0,
      "metadata": {
        "colab": {},
        "colab_type": "code",
        "id": "vKEwe2oyUd0_"
      },
      "outputs": [],
      "source": [
        "%matplotlib inline \n",
        "import numpy as np \n",
        "import pandas as pd \n",
        "import geopandas as gpd \n",
        "from shapely.geometry import Point"
      ]
    },
    {
      "cell_type": "markdown",
      "metadata": {
        "colab_type": "text",
        "id": "fCO79JvVVY-0"
      },
      "source": [
        "\n",
        "メモ 出典 [三軒茶屋駅](https://tools.wmflabs.org/geohack/geohack.php?language=ja&pagename=%E4%B8%89%E8%BB%92%E8%8C%B6%E5%B1%8B%E9%A7%85&params=35_38_38.8_N_139_40_8.3_E_region:JP&title=%E6%9D%B1%E6%80%A5%E4%B8%96%E7%94%B0%E8%B0%B7%E7%B7%9A+%E4%B8%89%E8%BB%92%E8%8C%B6%E5%B1%8B%E9%A7%85) [二子玉川駅](https://tools.wmflabs.org/geohack/geohack.php?language=ja&pagename=%E4%BA%8C%E5%AD%90%E7%8E%89%E5%B7%9D%E9%A7%85&params=35_36_41.4_N_139_37_35.8_E_region:JP-13_type:railwaystation)"
      ]
    },
    {
      "cell_type": "code",
      "execution_count": 17,
      "metadata": {
        "colab": {
          "base_uri": "https://localhost:8080/",
          "height": 68
        },
        "colab_type": "code",
        "id": "BUA8FJQIUhpK",
        "outputId": "b6b00d53-4658-4a3e-dc31-ef53aed0db45"
      },
      "outputs": [
        {
          "data": {
            "text/plain": [
              "{'lat': [35.644111, 35.6115],\n",
              " 'lon': [139.668972, 139.626611],\n",
              " 'name': ['三軒茶屋駅', '二子玉川駅']}"
            ]
          },
          "execution_count": 17,
          "metadata": {
            "tags": []
          },
          "output_type": "execute_result"
        }
      ],
      "source": [
        "name_values = [\"三軒茶屋駅\", \"二子玉川駅\"]\n",
        "lat_values = [35.644111, 35.6115]\n",
        "lon_values = [139.668972, 139.626611]\n",
        "dict = {\"name\": name_values, \"lat\": lat_values, \"lon\": lon_values}\n",
        "dict"
      ]
    },
    {
      "cell_type": "code",
      "execution_count": 0,
      "metadata": {
        "colab": {},
        "colab_type": "code",
        "id": "D-aw5uN7V8dL"
      },
      "outputs": [],
      "source": [
        "df = pd.DataFrame.from_dict(dict)"
      ]
    },
    {
      "cell_type": "code",
      "execution_count": 19,
      "metadata": {
        "colab": {
          "base_uri": "https://localhost:8080/",
          "height": 111
        },
        "colab_type": "code",
        "id": "NRTecaS_WA9G",
        "outputId": "2ec8f70f-d4eb-41bb-8607-1796ca709a5f"
      },
      "outputs": [
        {
          "data": {
            "text/html": [
              "<div>\n",
              "<style scoped>\n",
              "    .dataframe tbody tr th:only-of-type {\n",
              "        vertical-align: middle;\n",
              "    }\n",
              "\n",
              "    .dataframe tbody tr th {\n",
              "        vertical-align: top;\n",
              "    }\n",
              "\n",
              "    .dataframe thead th {\n",
              "        text-align: right;\n",
              "    }\n",
              "</style>\n",
              "<table border=\"1\" class=\"dataframe\">\n",
              "  <thead>\n",
              "    <tr style=\"text-align: right;\">\n",
              "      <th></th>\n",
              "      <th>name</th>\n",
              "      <th>lat</th>\n",
              "      <th>lon</th>\n",
              "    </tr>\n",
              "  </thead>\n",
              "  <tbody>\n",
              "    <tr>\n",
              "      <th>0</th>\n",
              "      <td>三軒茶屋駅</td>\n",
              "      <td>35.644111</td>\n",
              "      <td>139.668972</td>\n",
              "    </tr>\n",
              "    <tr>\n",
              "      <th>1</th>\n",
              "      <td>二子玉川駅</td>\n",
              "      <td>35.611500</td>\n",
              "      <td>139.626611</td>\n",
              "    </tr>\n",
              "  </tbody>\n",
              "</table>\n",
              "</div>"
            ],
            "text/plain": [
              "    name        lat         lon\n",
              "0  三軒茶屋駅  35.644111  139.668972\n",
              "1  二子玉川駅  35.611500  139.626611"
            ]
          },
          "execution_count": 19,
          "metadata": {
            "tags": []
          },
          "output_type": "execute_result"
        }
      ],
      "source": [
        "df"
      ]
    },
    {
      "cell_type": "code",
      "execution_count": 0,
      "metadata": {
        "colab": {},
        "colab_type": "code",
        "id": "4IorICyNWB4z"
      },
      "outputs": [],
      "source": [
        "gdf = gpd.GeoDataFrame(\n",
        "    df, geometry=gpd.points_from_xy(df.lon, df.lat))"
      ]
    },
    {
      "cell_type": "code",
      "execution_count": 23,
      "metadata": {
        "colab": {
          "base_uri": "https://localhost:8080/",
          "height": 111
        },
        "colab_type": "code",
        "id": "0fZRRDTMWmmf",
        "outputId": "dcc96a74-3b4c-43c5-9e77-824f4aaec826"
      },
      "outputs": [
        {
          "data": {
            "text/html": [
              "<div>\n",
              "<style scoped>\n",
              "    .dataframe tbody tr th:only-of-type {\n",
              "        vertical-align: middle;\n",
              "    }\n",
              "\n",
              "    .dataframe tbody tr th {\n",
              "        vertical-align: top;\n",
              "    }\n",
              "\n",
              "    .dataframe thead th {\n",
              "        text-align: right;\n",
              "    }\n",
              "</style>\n",
              "<table border=\"1\" class=\"dataframe\">\n",
              "  <thead>\n",
              "    <tr style=\"text-align: right;\">\n",
              "      <th></th>\n",
              "      <th>name</th>\n",
              "      <th>lat</th>\n",
              "      <th>lon</th>\n",
              "      <th>geometry</th>\n",
              "    </tr>\n",
              "  </thead>\n",
              "  <tbody>\n",
              "    <tr>\n",
              "      <th>0</th>\n",
              "      <td>三軒茶屋駅</td>\n",
              "      <td>35.644111</td>\n",
              "      <td>139.668972</td>\n",
              "      <td>POINT (139.668972 35.644111)</td>\n",
              "    </tr>\n",
              "    <tr>\n",
              "      <th>1</th>\n",
              "      <td>二子玉川駅</td>\n",
              "      <td>35.611500</td>\n",
              "      <td>139.626611</td>\n",
              "      <td>POINT (139.626611 35.6115)</td>\n",
              "    </tr>\n",
              "  </tbody>\n",
              "</table>\n",
              "</div>"
            ],
            "text/plain": [
              "    name        lat         lon                      geometry\n",
              "0  三軒茶屋駅  35.644111  139.668972  POINT (139.668972 35.644111)\n",
              "1  二子玉川駅  35.611500  139.626611    POINT (139.626611 35.6115)"
            ]
          },
          "execution_count": 23,
          "metadata": {
            "tags": []
          },
          "output_type": "execute_result"
        }
      ],
      "source": [
        "gdf"
      ]
    },
    {
      "cell_type": "code",
      "execution_count": 47,
      "metadata": {
        "colab": {
          "base_uri": "https://localhost:8080/",
          "height": 299
        },
        "colab_type": "code",
        "id": "uD_fD6hMWrzv",
        "outputId": "7e19aee7-6266-4bb6-9fdc-3b591198e1f9"
      },
      "outputs": [
        {
          "data": {
            "text/plain": [
              "<matplotlib.axes._subplots.AxesSubplot at 0x7fde52446278>"
            ]
          },
          "execution_count": 47,
          "metadata": {
            "tags": []
          },
          "output_type": "execute_result"
        },
        {
          "data": {
            "image/png": "[encoded data removed]",
            "text/plain": [
              "<Figure size 432x288 with 1 Axes>"
            ]
          },
          "metadata": {
            "tags": []
          },
          "output_type": "display_data"
        }
      ],
      "source": [
        "gdf.plot()"
      ]
    },
    {
      "cell_type": "code",
      "execution_count": 61,
      "metadata": {
        "colab": {
          "base_uri": "https://localhost:8080/",
          "height": 71
        },
        "colab_type": "code",
        "id": "FI8QO3imW0CB",
        "outputId": "1f7d2563-9fbb-49f6-dcac-79a9ff6cd1f1"
      },
      "outputs": [
        {
          "data": {
            "text/plain": [
              "{'chome_name': ['太子堂4丁目'],\n",
              " 'wkt_polygon': ['MultiPolygon (((139.66636837 35.64303136, 139.66617307 35.6430282, 139.66612808 35.64304338, 139.66581907 35.64310887, 139.66561285 35.64314143, 139.6654729 35.64316353, 139.66516636 35.6432288, 139.66511064 35.64324066, 139.665178 35.64352102, 139.66518058 35.64353176, 139.66521104 35.64369803, 139.66534858 35.64390765, 139.66558609 35.64409047, 139.66561214 35.64411562, 139.66596031 35.64445171, 139.66597765 35.64457803, 139.66597297 35.64461598, 139.66596389 35.64468984, 139.66591004 35.64516016, 139.66582907 35.64574964, 139.66578743 35.64587922, 139.66587553 35.64594399, 139.66604727 35.64599687, 139.66617807 35.64601359, 139.66624815 35.64599982, 139.66662539 35.64587633, 139.66716322 35.64587306, 139.667174 35.645873, 139.66735943 35.64589527, 139.66757132 35.64596172, 139.6677591 35.64602, 139.66788952 35.64607268, 139.66794456 35.64610511, 139.6682058 35.64623736, 139.66825022 35.64626552, 139.66865489 35.64652219, 139.66893769 35.64666021, 139.66909955 35.64672511, 139.66946934 35.64687339, 139.66969275 35.64651737, 139.66977932 35.64638439, 139.66996947 35.64608692, 139.67017151 35.64578766, 139.67017623 35.6457807, 139.67034336 35.64551974, 139.67042566 35.64532954, 139.67044633 35.64525567, 139.67054254 35.64500658, 139.67071128 35.64453644, 139.67073554 35.64446507, 139.67088171 35.6440399, 139.67104895 35.64358634, 139.6706958 35.64357562, 139.67049536 35.64354933, 139.67000819 35.64346977, 139.66995555 35.64346117, 139.66888186 35.64325645, 139.66861765 35.64320856, 139.66832001 35.64315463, 139.66795585 35.64308277, 139.66787987 35.64306819, 139.66758779 35.64305758, 139.66747516 35.64305609, 139.66700694 35.64304375, 139.66682873 35.64303908, 139.66680305 35.6430384, 139.66664689 35.64303586, 139.66636837 35.64303136)))']}"
            ]
          },
          "execution_count": 61,
          "metadata": {
            "tags": []
          },
          "output_type": "execute_result"
        }
      ],
      "source": [
        "chome_name_values = [\"太子堂4丁目\"]\n",
        "wkt_polygon_values = [\"MultiPolygon (((139.66636837 35.64303136, 139.66617307 35.6430282, 139.66612808 35.64304338, 139.66581907 35.64310887, 139.66561285 35.64314143, 139.6654729 35.64316353, 139.66516636 35.6432288, 139.66511064 35.64324066, 139.665178 35.64352102, 139.66518058 35.64353176, 139.66521104 35.64369803, 139.66534858 35.64390765, 139.66558609 35.64409047, 139.66561214 35.64411562, 139.66596031 35.64445171, 139.66597765 35.64457803, 139.66597297 35.64461598, 139.66596389 35.64468984, 139.66591004 35.64516016, 139.66582907 35.64574964, 139.66578743 35.64587922, 139.66587553 35.64594399, 139.66604727 35.64599687, 139.66617807 35.64601359, 139.66624815 35.64599982, 139.66662539 35.64587633, 139.66716322 35.64587306, 139.667174 35.645873, 139.66735943 35.64589527, 139.66757132 35.64596172, 139.6677591 35.64602, 139.66788952 35.64607268, 139.66794456 35.64610511, 139.6682058 35.64623736, 139.66825022 35.64626552, 139.66865489 35.64652219, 139.66893769 35.64666021, 139.66909955 35.64672511, 139.66946934 35.64687339, 139.66969275 35.64651737, 139.66977932 35.64638439, 139.66996947 35.64608692, 139.67017151 35.64578766, 139.67017623 35.6457807, 139.67034336 35.64551974, 139.67042566 35.64532954, 139.67044633 35.64525567, 139.67054254 35.64500658, 139.67071128 35.64453644, 139.67073554 35.64446507, 139.67088171 35.6440399, 139.67104895 35.64358634, 139.6706958 35.64357562, 139.67049536 35.64354933, 139.67000819 35.64346977, 139.66995555 35.64346117, 139.66888186 35.64325645, 139.66861765 35.64320856, 139.66832001 35.64315463, 139.66795585 35.64308277, 139.66787987 35.64306819, 139.66758779 35.64305758, 139.66747516 35.64305609, 139.66700694 35.64304375, 139.66682873 35.64303908, 139.66680305 35.6430384, 139.66664689 35.64303586, 139.66636837 35.64303136)))\"]\n",
        "chome_dict = {\"chome_name\": chome_name_values, \"wkt_polygon\": wkt_polygon_values}\n",
        "chome_dict"
      ]
    },
    {
      "cell_type": "code",
      "execution_count": 62,
      "metadata": {
        "colab": {
          "base_uri": "https://localhost:8080/",
          "height": 80
        },
        "colab_type": "code",
        "id": "RUpwzTLHYSbq",
        "outputId": "5481da7f-3788-46dc-e169-5c962e421ff1"
      },
      "outputs": [
        {
          "data": {
            "text/html": [
              "<div>\n",
              "<style scoped>\n",
              "    .dataframe tbody tr th:only-of-type {\n",
              "        vertical-align: middle;\n",
              "    }\n",
              "\n",
              "    .dataframe tbody tr th {\n",
              "        vertical-align: top;\n",
              "    }\n",
              "\n",
              "    .dataframe thead th {\n",
              "        text-align: right;\n",
              "    }\n",
              "</style>\n",
              "<table border=\"1\" class=\"dataframe\">\n",
              "  <thead>\n",
              "    <tr style=\"text-align: right;\">\n",
              "      <th></th>\n",
              "      <th>chome_name</th>\n",
              "      <th>wkt_polygon</th>\n",
              "    </tr>\n",
              "  </thead>\n",
              "  <tbody>\n",
              "    <tr>\n",
              "      <th>0</th>\n",
              "      <td>太子堂4丁目</td>\n",
              "      <td>MultiPolygon (((139.66636837 35.64303136, 139....</td>\n",
              "    </tr>\n",
              "  </tbody>\n",
              "</table>\n",
              "</div>"
            ],
            "text/plain": [
              "  chome_name                                        wkt_polygon\n",
              "0     太子堂4丁目  MultiPolygon (((139.66636837 35.64303136, 139...."
            ]
          },
          "execution_count": 62,
          "metadata": {
            "tags": []
          },
          "output_type": "execute_result"
        }
      ],
      "source": [
        "chome_df = pd.DataFrame.from_dict(chome_dict)\n",
        "chome_df"
      ]
    },
    {
      "cell_type": "code",
      "execution_count": 0,
      "metadata": {
        "colab": {},
        "colab_type": "code",
        "id": "1mexw8yHYdqL"
      },
      "outputs": [],
      "source": [
        "from shapely import wkt"
      ]
    },
    {
      "cell_type": "code",
      "execution_count": 0,
      "metadata": {
        "colab": {},
        "colab_type": "code",
        "id": "G41nzhvOYvDy"
      },
      "outputs": [],
      "source": [
        "chome_df[\"geometry\"] = chome_df[\"wkt_polygon\"].apply(wkt.loads)\n",
        "crs = {'init': 'epsg:4326'} "
      ]
    },
    {
      "cell_type": "code",
      "execution_count": 64,
      "metadata": {
        "colab": {
          "base_uri": "https://localhost:8080/",
          "height": 80
        },
        "colab_type": "code",
        "id": "QDBXcm__Y6OY",
        "outputId": "adebe9a7-785e-4c3b-b242-478edc3ba3bc"
      },
      "outputs": [
        {
          "data": {
            "text/html": [
              "<div>\n",
              "<style scoped>\n",
              "    .dataframe tbody tr th:only-of-type {\n",
              "        vertical-align: middle;\n",
              "    }\n",
              "\n",
              "    .dataframe tbody tr th {\n",
              "        vertical-align: top;\n",
              "    }\n",
              "\n",
              "    .dataframe thead th {\n",
              "        text-align: right;\n",
              "    }\n",
              "</style>\n",
              "<table border=\"1\" class=\"dataframe\">\n",
              "  <thead>\n",
              "    <tr style=\"text-align: right;\">\n",
              "      <th></th>\n",
              "      <th>chome_name</th>\n",
              "      <th>wkt_polygon</th>\n",
              "      <th>geometry</th>\n",
              "    </tr>\n",
              "  </thead>\n",
              "  <tbody>\n",
              "    <tr>\n",
              "      <th>0</th>\n",
              "      <td>太子堂4丁目</td>\n",
              "      <td>MultiPolygon (((139.66636837 35.64303136, 139....</td>\n",
              "      <td>(POLYGON ((139.66636837 35.64303136, 139.66617...</td>\n",
              "    </tr>\n",
              "  </tbody>\n",
              "</table>\n",
              "</div>"
            ],
            "text/plain": [
              "  chome_name                                        wkt_polygon  \\\n",
              "0     太子堂4丁目  MultiPolygon (((139.66636837 35.64303136, 139....   \n",
              "\n",
              "                                            geometry  \n",
              "0  (POLYGON ((139.66636837 35.64303136, 139.66617...  "
            ]
          },
          "execution_count": 64,
          "metadata": {
            "tags": []
          },
          "output_type": "execute_result"
        }
      ],
      "source": [
        "chome_df"
      ]
    },
    {
      "cell_type": "code",
      "execution_count": 0,
      "metadata": {
        "colab": {},
        "colab_type": "code",
        "id": "gz2UjuDJaVJ7"
      },
      "outputs": [],
      "source": [
        "chome_gdf = gpd.GeoDataFrame(chome_df, crs=crs, geometry='geometry')"
      ]
    },
    {
      "cell_type": "code",
      "execution_count": 66,
      "metadata": {
        "colab": {
          "base_uri": "https://localhost:8080/",
          "height": 80
        },
        "colab_type": "code",
        "id": "kkJ7dxULYpT7",
        "outputId": "eba04d0c-e332-4ac6-9eb4-7a90443ac0eb"
      },
      "outputs": [
        {
          "data": {
            "text/html": [
              "<div>\n",
              "<style scoped>\n",
              "    .dataframe tbody tr th:only-of-type {\n",
              "        vertical-align: middle;\n",
              "    }\n",
              "\n",
              "    .dataframe tbody tr th {\n",
              "        vertical-align: top;\n",
              "    }\n",
              "\n",
              "    .dataframe thead th {\n",
              "        text-align: right;\n",
              "    }\n",
              "</style>\n",
              "<table border=\"1\" class=\"dataframe\">\n",
              "  <thead>\n",
              "    <tr style=\"text-align: right;\">\n",
              "      <th></th>\n",
              "      <th>chome_name</th>\n",
              "      <th>wkt_polygon</th>\n",
              "      <th>geometry</th>\n",
              "    </tr>\n",
              "  </thead>\n",
              "  <tbody>\n",
              "    <tr>\n",
              "      <th>0</th>\n",
              "      <td>太子堂4丁目</td>\n",
              "      <td>MultiPolygon (((139.66636837 35.64303136, 139....</td>\n",
              "      <td>(POLYGON ((139.66636837 35.64303136, 139.66617...</td>\n",
              "    </tr>\n",
              "  </tbody>\n",
              "</table>\n",
              "</div>"
            ],
            "text/plain": [
              "  chome_name                                        wkt_polygon  \\\n",
              "0     太子堂4丁目  MultiPolygon (((139.66636837 35.64303136, 139....   \n",
              "\n",
              "                                            geometry  \n",
              "0  (POLYGON ((139.66636837 35.64303136, 139.66617...  "
            ]
          },
          "execution_count": 66,
          "metadata": {
            "tags": []
          },
          "output_type": "execute_result"
        }
      ],
      "source": [
        "chome_gdf"
      ]
    },
    {
      "cell_type": "code",
      "execution_count": 67,
      "metadata": {
        "colab": {
          "base_uri": "https://localhost:8080/",
          "height": 282
        },
        "colab_type": "code",
        "id": "59nnUm57aZcU",
        "outputId": "33a01d3b-80d1-43fb-ee5d-9688c2433afa"
      },
      "outputs": [
        {
          "data": {
            "image/png": "[encoded data removed]",
            "text/plain": [
              "<Figure size 432x288 with 1 Axes>"
            ]
          },
          "metadata": {
            "tags": []
          },
          "output_type": "display_data"
        }
      ],
      "source": [
        "from matplotlib import pyplot as plt\n",
        "from descartes import PolygonPatch\n",
        "ax = chome_gdf.plot(\n",
        "    color='white', edgecolor='black')\n",
        "gdf.plot(ax=ax, color='red')\n",
        "\n",
        "plt.show()"
      ]
    },
    {
      "cell_type": "code",
      "execution_count": 0,
      "metadata": {
        "colab": {},
        "colab_type": "code",
        "id": "OsRt56wVabz3"
      },
      "outputs": [],
      "source": [
        "chome_gdf = gpd.read_file(\"./shp/h27ka13112.shp\")"
      ]
    },
    {
      "cell_type": "code",
      "execution_count": 69,
      "metadata": {
        "colab": {
          "base_uri": "https://localhost:8080/",
          "height": 269
        },
        "colab_type": "code",
        "id": "KhXI_Wcgdik9",
        "outputId": "50ea18ea-6e02-4dab-c42f-bd79dd78f157"
      },
      "outputs": [
        {
          "data": {
            "image/png": "[encoded data removed]",
            "text/plain": [
              "<Figure size 432x288 with 1 Axes>"
            ]
          },
          "metadata": {
            "tags": []
          },
          "output_type": "display_data"
        }
      ],
      "source": [
        "ax = chome_gdf.plot(\n",
        "    color='white', edgecolor='black')\n",
        "gdf.plot(ax=ax, color='red')\n",
        "\n",
        "plt.show()"
      ]
    },
    {
      "cell_type": "code",
      "execution_count": 0,
      "metadata": {
        "colab": {},
        "colab_type": "code",
        "id": "K_eZjMUbdmA6"
      },
      "outputs": [],
      "source": []
    }
  ]
}