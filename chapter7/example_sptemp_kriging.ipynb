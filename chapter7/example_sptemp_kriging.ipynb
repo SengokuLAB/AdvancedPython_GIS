{
 "cells": [
  {
   "cell_type": "markdown",
   "metadata": {},
   "source": [
    "# 不動産時系列データにカルマンフィルタを適用する"
   ]
  },
  {
   "cell_type": "code",
   "execution_count": 1,
   "metadata": {},
   "outputs": [],
   "source": [
    "import sys\n",
    "sys.path.append('/Users/xianshiyuming/Desktop/LDAT_LS_2019-feature_refactoring/scripts/')"
   ]
  },
  {
   "cell_type": "code",
   "execution_count": 74,
   "metadata": {},
   "outputs": [],
   "source": [
    "%matplotlib inline"
   ]
  },
  {
   "cell_type": "code",
   "execution_count": 2,
   "metadata": {},
   "outputs": [
    {
     "name": "stderr",
     "output_type": "stream",
     "text": [
      "/Users/xianshiyuming/miniconda3/lib/python3.6/site-packages/statsmodels/compat/pandas.py:56: FutureWarning: The pandas.core.datetools module is deprecated and will be removed in a future version. Please use the pandas.tseries module instead.\n",
      "  from pandas.core import datetools\n"
     ]
    }
   ],
   "source": [
    "import numpy as np\n",
    "import matplotlib.pyplot as plt\n",
    "import pandas as pd\n",
    "import calc_variogram as variogram\n",
    "import kriging_est as kriging\n",
    "import kalmanfilter as kalman"
   ]
  },
  {
   "cell_type": "code",
   "execution_count": 4,
   "metadata": {},
   "outputs": [],
   "source": [
    "data = pd.read_csv('/Users/xianshiyuming/Desktop/LDAT_LS_2019-feature_refactoring/data/dev/peseudo_monthly_rent_data.csv')"
   ]
  },
  {
   "cell_type": "code",
   "execution_count": 5,
   "metadata": {},
   "outputs": [
    {
     "data": {
      "text/html": [
       "<div>\n",
       "<style>\n",
       "    .dataframe thead tr:only-child th {\n",
       "        text-align: right;\n",
       "    }\n",
       "\n",
       "    .dataframe thead th {\n",
       "        text-align: left;\n",
       "    }\n",
       "\n",
       "    .dataframe tbody tr th {\n",
       "        vertical-align: top;\n",
       "    }\n",
       "</style>\n",
       "<table border=\"1\" class=\"dataframe\">\n",
       "  <thead>\n",
       "    <tr style=\"text-align: right;\">\n",
       "      <th></th>\n",
       "      <th>No</th>\n",
       "      <th>都道府県</th>\n",
       "      <th>市区町村</th>\n",
       "      <th>町丁目</th>\n",
       "      <th>築年</th>\n",
       "      <th>築月</th>\n",
       "      <th>構造</th>\n",
       "      <th>マンション最上階数</th>\n",
       "      <th>間取別平均平米単価①</th>\n",
       "      <th>間取別平均平米単価②</th>\n",
       "      <th>...</th>\n",
       "      <th>最寄駅経度</th>\n",
       "      <th>始点ノード</th>\n",
       "      <th>終点ノード</th>\n",
       "      <th>最寄駅までの距離</th>\n",
       "      <th>month</th>\n",
       "      <th>月別間取別平均平米単価①</th>\n",
       "      <th>月別間取別平均平米単価②</th>\n",
       "      <th>月別間取別平均平米単価③</th>\n",
       "      <th>月別間取別平均平米単価④</th>\n",
       "      <th>月別間取別平均平米単価⑤</th>\n",
       "    </tr>\n",
       "  </thead>\n",
       "  <tbody>\n",
       "    <tr>\n",
       "      <th>0</th>\n",
       "      <td>1</td>\n",
       "      <td>東京都</td>\n",
       "      <td>世田谷区</td>\n",
       "      <td>喜多見７丁目</td>\n",
       "      <td>1988</td>\n",
       "      <td>3</td>\n",
       "      <td>ＲＣ</td>\n",
       "      <td>2</td>\n",
       "      <td>2812.2742</td>\n",
       "      <td>2311.9321</td>\n",
       "      <td>...</td>\n",
       "      <td>139.587513</td>\n",
       "      <td>1.395870e+14</td>\n",
       "      <td>1.395930e+14</td>\n",
       "      <td>1096.93</td>\n",
       "      <td>9</td>\n",
       "      <td>2868.519684</td>\n",
       "      <td>2358.170742</td>\n",
       "      <td>2273.304804</td>\n",
       "      <td>2188.708860</td>\n",
       "      <td>2687.040060</td>\n",
       "    </tr>\n",
       "    <tr>\n",
       "      <th>1</th>\n",
       "      <td>2</td>\n",
       "      <td>東京都</td>\n",
       "      <td>世田谷区</td>\n",
       "      <td>喜多見７丁目</td>\n",
       "      <td>2005</td>\n",
       "      <td>3</td>\n",
       "      <td>鉄骨造</td>\n",
       "      <td>3</td>\n",
       "      <td>3006.8074</td>\n",
       "      <td>2633.6113</td>\n",
       "      <td>...</td>\n",
       "      <td>139.587513</td>\n",
       "      <td>1.395870e+14</td>\n",
       "      <td>1.395920e+14</td>\n",
       "      <td>930.57</td>\n",
       "      <td>3</td>\n",
       "      <td>3217.283918</td>\n",
       "      <td>2817.964091</td>\n",
       "      <td>2654.611792</td>\n",
       "      <td>2753.539712</td>\n",
       "      <td>2925.088746</td>\n",
       "    </tr>\n",
       "  </tbody>\n",
       "</table>\n",
       "<p>2 rows × 27 columns</p>\n",
       "</div>"
      ],
      "text/plain": [
       "   No 都道府県  市区町村     町丁目    築年  築月   構造  マンション最上階数  間取別平均平米単価①  間取別平均平米単価②  \\\n",
       "0   1  東京都  世田谷区  喜多見７丁目  1988   3   ＲＣ          2   2812.2742   2311.9321   \n",
       "1   2  東京都  世田谷区  喜多見７丁目  2005   3  鉄骨造          3   3006.8074   2633.6113   \n",
       "\n",
       "       ...            最寄駅経度         始点ノード         終点ノード  最寄駅までの距離  month  \\\n",
       "0      ...       139.587513  1.395870e+14  1.395930e+14   1096.93      9   \n",
       "1      ...       139.587513  1.395870e+14  1.395920e+14    930.57      3   \n",
       "\n",
       "  月別間取別平均平米単価①  月別間取別平均平米単価②  月別間取別平均平米単価③  月別間取別平均平米単価④  月別間取別平均平米単価⑤  \n",
       "0  2868.519684   2358.170742   2273.304804   2188.708860   2687.040060  \n",
       "1  3217.283918   2817.964091   2654.611792   2753.539712   2925.088746  \n",
       "\n",
       "[2 rows x 27 columns]"
      ]
     },
     "execution_count": 5,
     "metadata": {},
     "output_type": "execute_result"
    }
   ],
   "source": [
    "data.head(2)"
   ]
  },
  {
   "cell_type": "code",
   "execution_count": 6,
   "metadata": {},
   "outputs": [
    {
     "data": {
      "text/plain": [
       "3852"
      ]
     },
     "execution_count": 6,
     "metadata": {},
     "output_type": "execute_result"
    }
   ],
   "source": [
    "len(data)"
   ]
  },
  {
   "cell_type": "code",
   "execution_count": 7,
   "metadata": {},
   "outputs": [],
   "source": [
    "data.columns = ['No', '都道府県', '市区町村', '町丁目', 'year', '築月', '構造', 'マンション最上階数',\n",
    "       '間取別平均平米単価①', '間取別平均平米単価②', '間取別平均平米単価③', '間取別平均平米単価④',\n",
    "       '間取別平均平米単価⑤', '物件緯度', '物件経度', '最寄駅', '最寄駅緯度', '最寄駅経度', '始点ノード',\n",
    "       '終点ノード', '最寄駅までの距離', 'month', '月別間取別平均平米単価①', '月別間取別平均平米単価②',\n",
    "       '月別間取別平均平米単価③', '月別間取別平均平米単価④', '月別間取別平均平米単価⑤']"
   ]
  },
  {
   "cell_type": "code",
   "execution_count": 8,
   "metadata": {},
   "outputs": [
    {
     "data": {
      "text/plain": [
       "array(['No', '都道府県', '市区町村', '町丁目', 'year', '築月', '構造', 'マンション最上階数',\n",
       "       '間取別平均平米単価①', '間取別平均平米単価②', '間取別平均平米単価③', '間取別平均平米単価④',\n",
       "       '間取別平均平米単価⑤', '物件緯度', '物件経度', '最寄駅', '最寄駅緯度', '最寄駅経度', '始点ノード',\n",
       "       '終点ノード', '最寄駅までの距離', 'month', '月別間取別平均平米単価①', '月別間取別平均平米単価②',\n",
       "       '月別間取別平均平米単価③', '月別間取別平均平米単価④', '月別間取別平均平米単価⑤'], dtype=object)"
      ]
     },
     "execution_count": 8,
     "metadata": {},
     "output_type": "execute_result"
    }
   ],
   "source": [
    "data.columns.values"
   ]
  },
  {
   "cell_type": "markdown",
   "metadata": {},
   "source": [
    "## 時系列データの作成\n",
    "- 分散一定の減少トレンドを描く。月-10円すると考える\n",
    "- 季節性のサイクルを描く。１月から始まって12月まで。1年間\n",
    "    - 1: 1.00, 2: 1.02, 3: 1.07, 4: 1.06, 5: 1.06, 6: 1.04, 7: 1.02, 8: 1.00, 9: 1.02, 10: 1.05, 11: 1.04, 12: 1.04"
   ]
  },
  {
   "cell_type": "code",
   "execution_count": 9,
   "metadata": {},
   "outputs": [],
   "source": [
    "np.random.seed(1)"
   ]
  },
  {
   "cell_type": "code",
   "execution_count": 10,
   "metadata": {},
   "outputs": [],
   "source": [
    "trend = 50*np.random.randn(12, 3852) - 10"
   ]
  },
  {
   "cell_type": "code",
   "execution_count": 12,
   "metadata": {},
   "outputs": [
    {
     "data": {
      "text/plain": [
       "array([ 71.21726818, -59.69905605, -60.70178294,  37.26361946,\n",
       "       -40.87517201,  18.3786943 ,  66.28950513,  17.25604885,\n",
       "       -18.38170899, -58.14349662,  88.64279309, -79.82871272])"
      ]
     },
     "execution_count": 12,
     "metadata": {},
     "output_type": "execute_result"
    }
   ],
   "source": [
    "trend.T[0]"
   ]
  },
  {
   "cell_type": "code",
   "execution_count": 13,
   "metadata": {},
   "outputs": [],
   "source": [
    "tes = np.array([np.sum(trend.T[0][:i]) for i in range(1, 13)])"
   ]
  },
  {
   "cell_type": "code",
   "execution_count": 14,
   "metadata": {},
   "outputs": [
    {
     "data": {
      "text/plain": [
       "[<matplotlib.lines.Line2D at 0x11802b400>]"
      ]
     },
     "execution_count": 14,
     "metadata": {},
     "output_type": "execute_result"
    }
   ],
   "source": [
    "plt.plot(np.linspace(1, 12, 12), tes)"
   ]
  },
  {
   "cell_type": "code",
   "execution_count": 15,
   "metadata": {},
   "outputs": [],
   "source": [
    "pre_name = \"間取別平均平米単価①\"\n",
    "for i in range(0, 12):\n",
    "    col_name = \"price_{}\".format(str(i+1))\n",
    "    data[col_name] = data[pre_name] + trend.T[:, :i].sum(axis=1)\n",
    "    '''if i == 1:\n",
    "        data[col_name] += 2*unit\n",
    "    if i == 2:\n",
    "        data[col_name] += 7*unit\n",
    "    if i == 3:\n",
    "        data[col_name] = 6*unit\n",
    "    if i == 4:\n",
    "        data[col_name] += 6*unit\n",
    "    if i == 5:\n",
    "        data[col_name] += 4*unit\n",
    "    if i == 6:\n",
    "        data[col_name] += 2*unit\n",
    "    if i == 8:\n",
    "        data[col_name] += 2*unit\n",
    "    pre_name = col_name\n",
    "    '''"
   ]
  },
  {
   "cell_type": "code",
   "execution_count": 16,
   "metadata": {},
   "outputs": [],
   "source": [
    "tes = data.iloc[0:1, -12:].values"
   ]
  },
  {
   "cell_type": "code",
   "execution_count": 17,
   "metadata": {},
   "outputs": [
    {
     "data": {
      "text/plain": [
       "array([ 2812.2742    ,  2883.49146818,  2823.79241214,  2763.0906292 ,\n",
       "        2800.35424866,  2759.47907665,  2777.85777095,  2844.14727609,\n",
       "        2861.40332494,  2843.02161595,  2784.87811933,  2873.52091242])"
      ]
     },
     "execution_count": 17,
     "metadata": {},
     "output_type": "execute_result"
    }
   ],
   "source": [
    "tes[0]"
   ]
  },
  {
   "cell_type": "code",
   "execution_count": 18,
   "metadata": {},
   "outputs": [
    {
     "data": {
      "text/plain": [
       "[<matplotlib.lines.Line2D at 0x118041198>]"
      ]
     },
     "execution_count": 18,
     "metadata": {},
     "output_type": "execute_result"
    }
   ],
   "source": [
    "plt.plot(np.linspace(1, 12, 12), tes[0])"
   ]
  },
  {
   "cell_type": "code",
   "execution_count": 92,
   "metadata": {},
   "outputs": [],
   "source": [
    "np.random.seed(0)\n",
    "indices = np.random.randint(0, 3852, 200)"
   ]
  },
  {
   "cell_type": "code",
   "execution_count": 93,
   "metadata": {},
   "outputs": [],
   "source": [
    "dat = data[data.No.isin(indices)]"
   ]
  },
  {
   "cell_type": "code",
   "execution_count": 51,
   "metadata": {},
   "outputs": [
    {
     "data": {
      "text/html": [
       "<div>\n",
       "<style>\n",
       "    .dataframe thead tr:only-child th {\n",
       "        text-align: right;\n",
       "    }\n",
       "\n",
       "    .dataframe thead th {\n",
       "        text-align: left;\n",
       "    }\n",
       "\n",
       "    .dataframe tbody tr th {\n",
       "        vertical-align: top;\n",
       "    }\n",
       "</style>\n",
       "<table border=\"1\" class=\"dataframe\">\n",
       "  <thead>\n",
       "    <tr style=\"text-align: right;\">\n",
       "      <th></th>\n",
       "      <th>No</th>\n",
       "      <th>都道府県</th>\n",
       "      <th>市区町村</th>\n",
       "      <th>町丁目</th>\n",
       "      <th>year</th>\n",
       "      <th>築月</th>\n",
       "      <th>構造</th>\n",
       "      <th>マンション最上階数</th>\n",
       "      <th>間取別平均平米単価①</th>\n",
       "      <th>間取別平均平米単価②</th>\n",
       "      <th>...</th>\n",
       "      <th>price_3</th>\n",
       "      <th>price_4</th>\n",
       "      <th>price_5</th>\n",
       "      <th>price_6</th>\n",
       "      <th>price_7</th>\n",
       "      <th>price_8</th>\n",
       "      <th>price_9</th>\n",
       "      <th>price_10</th>\n",
       "      <th>price_11</th>\n",
       "      <th>price_12</th>\n",
       "    </tr>\n",
       "  </thead>\n",
       "  <tbody>\n",
       "    <tr>\n",
       "      <th>2</th>\n",
       "      <td>3</td>\n",
       "      <td>東京都</td>\n",
       "      <td>世田谷区</td>\n",
       "      <td>喜多見９丁目</td>\n",
       "      <td>2001</td>\n",
       "      <td>4</td>\n",
       "      <td>ＲＣ</td>\n",
       "      <td>3</td>\n",
       "      <td>2828.1343</td>\n",
       "      <td>2675.7913</td>\n",
       "      <td>...</td>\n",
       "      <td>2804.084476</td>\n",
       "      <td>2801.787754</td>\n",
       "      <td>2808.326207</td>\n",
       "      <td>2675.060022</td>\n",
       "      <td>2616.717526</td>\n",
       "      <td>2594.674811</td>\n",
       "      <td>2588.541755</td>\n",
       "      <td>2601.208495</td>\n",
       "      <td>2614.817450</td>\n",
       "      <td>2588.546811</td>\n",
       "    </tr>\n",
       "    <tr>\n",
       "      <th>5</th>\n",
       "      <td>6</td>\n",
       "      <td>東京都</td>\n",
       "      <td>世田谷区</td>\n",
       "      <td>喜多見９丁目</td>\n",
       "      <td>1986</td>\n",
       "      <td>4</td>\n",
       "      <td>鉄骨造</td>\n",
       "      <td>3</td>\n",
       "      <td>2751.9814</td>\n",
       "      <td>2446.0586</td>\n",
       "      <td>...</td>\n",
       "      <td>2617.539704</td>\n",
       "      <td>2533.217246</td>\n",
       "      <td>2552.120710</td>\n",
       "      <td>2520.117363</td>\n",
       "      <td>2494.923762</td>\n",
       "      <td>2495.673572</td>\n",
       "      <td>2452.820896</td>\n",
       "      <td>2495.987711</td>\n",
       "      <td>2364.275315</td>\n",
       "      <td>2390.431800</td>\n",
       "    </tr>\n",
       "    <tr>\n",
       "      <th>6</th>\n",
       "      <td>7</td>\n",
       "      <td>東京都</td>\n",
       "      <td>世田谷区</td>\n",
       "      <td>喜多見９丁目</td>\n",
       "      <td>1988</td>\n",
       "      <td>6</td>\n",
       "      <td>ＲＣ</td>\n",
       "      <td>0</td>\n",
       "      <td>2797.7124</td>\n",
       "      <td>2359.8370</td>\n",
       "      <td>...</td>\n",
       "      <td>2744.158601</td>\n",
       "      <td>2761.680865</td>\n",
       "      <td>2739.193884</td>\n",
       "      <td>2771.861491</td>\n",
       "      <td>2732.440666</td>\n",
       "      <td>2699.627358</td>\n",
       "      <td>2695.629333</td>\n",
       "      <td>2687.518742</td>\n",
       "      <td>2589.727250</td>\n",
       "      <td>2477.003346</td>\n",
       "    </tr>\n",
       "    <tr>\n",
       "      <th>7</th>\n",
       "      <td>8</td>\n",
       "      <td>東京都</td>\n",
       "      <td>世田谷区</td>\n",
       "      <td>喜多見９丁目</td>\n",
       "      <td>1989</td>\n",
       "      <td>10</td>\n",
       "      <td>ＲＣ</td>\n",
       "      <td>4</td>\n",
       "      <td>2797.0862</td>\n",
       "      <td>2462.9246</td>\n",
       "      <td>...</td>\n",
       "      <td>2734.470806</td>\n",
       "      <td>2741.375421</td>\n",
       "      <td>2776.168496</td>\n",
       "      <td>2796.807566</td>\n",
       "      <td>2808.638482</td>\n",
       "      <td>2792.538372</td>\n",
       "      <td>2742.244149</td>\n",
       "      <td>2753.648381</td>\n",
       "      <td>2714.707920</td>\n",
       "      <td>2666.144000</td>\n",
       "    </tr>\n",
       "    <tr>\n",
       "      <th>10</th>\n",
       "      <td>11</td>\n",
       "      <td>東京都</td>\n",
       "      <td>世田谷区</td>\n",
       "      <td>喜多見９丁目</td>\n",
       "      <td>1998</td>\n",
       "      <td>3</td>\n",
       "      <td>鉄骨造</td>\n",
       "      <td>2</td>\n",
       "      <td>2842.8740</td>\n",
       "      <td>2402.5022</td>\n",
       "      <td>...</td>\n",
       "      <td>2828.826463</td>\n",
       "      <td>2822.568965</td>\n",
       "      <td>2838.854171</td>\n",
       "      <td>2889.628039</td>\n",
       "      <td>2929.612101</td>\n",
       "      <td>2933.718011</td>\n",
       "      <td>2900.909553</td>\n",
       "      <td>2890.812599</td>\n",
       "      <td>2805.968448</td>\n",
       "      <td>2811.197785</td>\n",
       "    </tr>\n",
       "  </tbody>\n",
       "</table>\n",
       "<p>5 rows × 39 columns</p>\n",
       "</div>"
      ],
      "text/plain": [
       "    No 都道府県  市区町村     町丁目  year  築月   構造  マンション最上階数  間取別平均平米単価①  間取別平均平米単価②  \\\n",
       "2    3  東京都  世田谷区  喜多見９丁目  2001   4   ＲＣ          3   2828.1343   2675.7913   \n",
       "5    6  東京都  世田谷区  喜多見９丁目  1986   4  鉄骨造          3   2751.9814   2446.0586   \n",
       "6    7  東京都  世田谷区  喜多見９丁目  1988   6   ＲＣ          0   2797.7124   2359.8370   \n",
       "7    8  東京都  世田谷区  喜多見９丁目  1989  10   ＲＣ          4   2797.0862   2462.9246   \n",
       "10  11  東京都  世田谷区  喜多見９丁目  1998   3  鉄骨造          2   2842.8740   2402.5022   \n",
       "\n",
       "       ...           price_3      price_4      price_5      price_6  \\\n",
       "2      ...       2804.084476  2801.787754  2808.326207  2675.060022   \n",
       "5      ...       2617.539704  2533.217246  2552.120710  2520.117363   \n",
       "6      ...       2744.158601  2761.680865  2739.193884  2771.861491   \n",
       "7      ...       2734.470806  2741.375421  2776.168496  2796.807566   \n",
       "10     ...       2828.826463  2822.568965  2838.854171  2889.628039   \n",
       "\n",
       "        price_7      price_8      price_9     price_10     price_11  \\\n",
       "2   2616.717526  2594.674811  2588.541755  2601.208495  2614.817450   \n",
       "5   2494.923762  2495.673572  2452.820896  2495.987711  2364.275315   \n",
       "6   2732.440666  2699.627358  2695.629333  2687.518742  2589.727250   \n",
       "7   2808.638482  2792.538372  2742.244149  2753.648381  2714.707920   \n",
       "10  2929.612101  2933.718011  2900.909553  2890.812599  2805.968448   \n",
       "\n",
       "       price_12  \n",
       "2   2588.546811  \n",
       "5   2390.431800  \n",
       "6   2477.003346  \n",
       "7   2666.144000  \n",
       "10  2811.197785  \n",
       "\n",
       "[5 rows x 39 columns]"
      ]
     },
     "execution_count": 51,
     "metadata": {},
     "output_type": "execute_result"
    }
   ],
   "source": [
    "dat.head(5)"
   ]
  },
  {
   "cell_type": "markdown",
   "metadata": {},
   "source": [
    "# 時空間krigingの実装例\n",
    "- 一時点krigingによる空間相関の推定\n",
    "- kalmanfilter関数による時系列krigingの実施"
   ]
  },
  {
   "cell_type": "markdown",
   "metadata": {},
   "source": [
    "## Krigingによる空間相関(分散共分散行列)の推定"
   ]
  },
  {
   "cell_type": "code",
   "execution_count": 94,
   "metadata": {},
   "outputs": [],
   "source": [
    "Y = np.log(dat.iloc[:, -12:].values)"
   ]
  },
  {
   "cell_type": "code",
   "execution_count": 95,
   "metadata": {},
   "outputs": [
    {
     "data": {
      "text/plain": [
       "(196, 12)"
      ]
     },
     "execution_count": 95,
     "metadata": {},
     "output_type": "execute_result"
    }
   ],
   "source": [
    "Y.shape # 196地点, 12ヶ月分のデータ"
   ]
  },
  {
   "cell_type": "code",
   "execution_count": 54,
   "metadata": {},
   "outputs": [
    {
     "data": {
      "text/plain": [
       "array([[ 7.94737252,  7.93441522,  7.93883237, ...,  7.86373142,\n",
       "         7.86894957,  7.85885192],\n",
       "       [ 7.92007644,  7.87356142,  7.86999011, ...,  7.82243981,\n",
       "         7.76822683,  7.7792293 ],\n",
       "       [ 7.93655736,  7.9637916 ,  7.91722979, ...,  7.89637365,\n",
       "         7.85930784,  7.81480478],\n",
       "       ..., \n",
       "       [ 8.16867566,  8.15358195,  8.1358972 , ...,  8.10730476,\n",
       "         8.08577206,  8.0835016 ],\n",
       "       [ 8.13839831,  8.1066478 ,  8.09664545, ...,  7.99393349,\n",
       "         7.99715723,  8.01008369],\n",
       "       [ 8.12470571,  8.14220656,  8.13586684, ...,  8.0902159 ,\n",
       "         8.09557078,  8.10597237]])"
      ]
     },
     "execution_count": 54,
     "metadata": {},
     "output_type": "execute_result"
    }
   ],
   "source": [
    "Y"
   ]
  },
  {
   "cell_type": "code",
   "execution_count": 96,
   "metadata": {},
   "outputs": [],
   "source": [
    "dum = pd.get_dummies(dat.町丁目, drop_first=True)\n",
    "dum2 = pd.get_dummies(dat.構造, drop_first=True)"
   ]
  },
  {
   "cell_type": "code",
   "execution_count": 97,
   "metadata": {},
   "outputs": [
    {
     "data": {
      "text/html": [
       "<div>\n",
       "<style>\n",
       "    .dataframe thead tr:only-child th {\n",
       "        text-align: right;\n",
       "    }\n",
       "\n",
       "    .dataframe thead th {\n",
       "        text-align: left;\n",
       "    }\n",
       "\n",
       "    .dataframe tbody tr th {\n",
       "        vertical-align: top;\n",
       "    }\n",
       "</style>\n",
       "<table border=\"1\" class=\"dataframe\">\n",
       "  <thead>\n",
       "    <tr style=\"text-align: right;\">\n",
       "      <th></th>\n",
       "      <th>三宿２丁目</th>\n",
       "      <th>上北沢５丁目</th>\n",
       "      <th>上用賀１丁目</th>\n",
       "      <th>上用賀４丁目</th>\n",
       "      <th>上用賀５丁目</th>\n",
       "      <th>上祖師谷５丁目</th>\n",
       "      <th>上野毛２丁目</th>\n",
       "      <th>上野毛４丁目</th>\n",
       "      <th>上馬１丁目</th>\n",
       "      <th>上馬２丁目</th>\n",
       "      <th>...</th>\n",
       "      <th>赤堤２丁目</th>\n",
       "      <th>赤堤３丁目</th>\n",
       "      <th>赤堤４丁目</th>\n",
       "      <th>赤堤５丁目</th>\n",
       "      <th>野沢１丁目</th>\n",
       "      <th>野沢２丁目</th>\n",
       "      <th>野沢３丁目</th>\n",
       "      <th>鎌田３丁目</th>\n",
       "      <th>駒沢２丁目</th>\n",
       "      <th>駒沢３丁目</th>\n",
       "    </tr>\n",
       "  </thead>\n",
       "  <tbody>\n",
       "    <tr>\n",
       "      <th>83</th>\n",
       "      <td>0</td>\n",
       "      <td>0</td>\n",
       "      <td>0</td>\n",
       "      <td>0</td>\n",
       "      <td>0</td>\n",
       "      <td>0</td>\n",
       "      <td>0</td>\n",
       "      <td>0</td>\n",
       "      <td>0</td>\n",
       "      <td>1</td>\n",
       "      <td>...</td>\n",
       "      <td>0</td>\n",
       "      <td>0</td>\n",
       "      <td>0</td>\n",
       "      <td>0</td>\n",
       "      <td>0</td>\n",
       "      <td>0</td>\n",
       "      <td>0</td>\n",
       "      <td>0</td>\n",
       "      <td>0</td>\n",
       "      <td>0</td>\n",
       "    </tr>\n",
       "    <tr>\n",
       "      <th>85</th>\n",
       "      <td>0</td>\n",
       "      <td>0</td>\n",
       "      <td>0</td>\n",
       "      <td>0</td>\n",
       "      <td>0</td>\n",
       "      <td>0</td>\n",
       "      <td>0</td>\n",
       "      <td>0</td>\n",
       "      <td>0</td>\n",
       "      <td>1</td>\n",
       "      <td>...</td>\n",
       "      <td>0</td>\n",
       "      <td>0</td>\n",
       "      <td>0</td>\n",
       "      <td>0</td>\n",
       "      <td>0</td>\n",
       "      <td>0</td>\n",
       "      <td>0</td>\n",
       "      <td>0</td>\n",
       "      <td>0</td>\n",
       "      <td>0</td>\n",
       "    </tr>\n",
       "    <tr>\n",
       "      <th>90</th>\n",
       "      <td>0</td>\n",
       "      <td>0</td>\n",
       "      <td>0</td>\n",
       "      <td>0</td>\n",
       "      <td>0</td>\n",
       "      <td>0</td>\n",
       "      <td>0</td>\n",
       "      <td>0</td>\n",
       "      <td>0</td>\n",
       "      <td>1</td>\n",
       "      <td>...</td>\n",
       "      <td>0</td>\n",
       "      <td>0</td>\n",
       "      <td>0</td>\n",
       "      <td>0</td>\n",
       "      <td>0</td>\n",
       "      <td>0</td>\n",
       "      <td>0</td>\n",
       "      <td>0</td>\n",
       "      <td>0</td>\n",
       "      <td>0</td>\n",
       "    </tr>\n",
       "  </tbody>\n",
       "</table>\n",
       "<p>3 rows × 128 columns</p>\n",
       "</div>"
      ],
      "text/plain": [
       "    三宿２丁目  上北沢５丁目  上用賀１丁目  上用賀４丁目  上用賀５丁目  上祖師谷５丁目  上野毛２丁目  上野毛４丁目  上馬１丁目  \\\n",
       "83      0       0       0       0       0        0       0       0      0   \n",
       "85      0       0       0       0       0        0       0       0      0   \n",
       "90      0       0       0       0       0        0       0       0      0   \n",
       "\n",
       "    上馬２丁目  ...    赤堤２丁目  赤堤３丁目  赤堤４丁目  赤堤５丁目  野沢１丁目  野沢２丁目  野沢３丁目  鎌田３丁目  \\\n",
       "83      1  ...        0      0      0      0      0      0      0      0   \n",
       "85      1  ...        0      0      0      0      0      0      0      0   \n",
       "90      1  ...        0      0      0      0      0      0      0      0   \n",
       "\n",
       "    駒沢２丁目  駒沢３丁目  \n",
       "83      0      0  \n",
       "85      0      0  \n",
       "90      0      0  \n",
       "\n",
       "[3 rows x 128 columns]"
      ]
     },
     "execution_count": 97,
     "metadata": {},
     "output_type": "execute_result"
    }
   ],
   "source": [
    "dum.head(3)"
   ]
  },
  {
   "cell_type": "code",
   "execution_count": 57,
   "metadata": {},
   "outputs": [
    {
     "data": {
      "text/html": [
       "<div>\n",
       "<style>\n",
       "    .dataframe thead tr:only-child th {\n",
       "        text-align: right;\n",
       "    }\n",
       "\n",
       "    .dataframe thead th {\n",
       "        text-align: left;\n",
       "    }\n",
       "\n",
       "    .dataframe tbody tr th {\n",
       "        vertical-align: top;\n",
       "    }\n",
       "</style>\n",
       "<table border=\"1\" class=\"dataframe\">\n",
       "  <thead>\n",
       "    <tr style=\"text-align: right;\">\n",
       "      <th></th>\n",
       "      <th>他</th>\n",
       "      <th>鉄骨</th>\n",
       "      <th>鉄骨造</th>\n",
       "      <th>ＡＬＣ</th>\n",
       "      <th>ＨＰＣ</th>\n",
       "      <th>ＰＣ</th>\n",
       "      <th>ＲＣ</th>\n",
       "      <th>ＳＲＣ</th>\n",
       "    </tr>\n",
       "  </thead>\n",
       "  <tbody>\n",
       "    <tr>\n",
       "      <th>2</th>\n",
       "      <td>0</td>\n",
       "      <td>0</td>\n",
       "      <td>0</td>\n",
       "      <td>0</td>\n",
       "      <td>0</td>\n",
       "      <td>0</td>\n",
       "      <td>1</td>\n",
       "      <td>0</td>\n",
       "    </tr>\n",
       "    <tr>\n",
       "      <th>5</th>\n",
       "      <td>0</td>\n",
       "      <td>0</td>\n",
       "      <td>1</td>\n",
       "      <td>0</td>\n",
       "      <td>0</td>\n",
       "      <td>0</td>\n",
       "      <td>0</td>\n",
       "      <td>0</td>\n",
       "    </tr>\n",
       "    <tr>\n",
       "      <th>6</th>\n",
       "      <td>0</td>\n",
       "      <td>0</td>\n",
       "      <td>0</td>\n",
       "      <td>0</td>\n",
       "      <td>0</td>\n",
       "      <td>0</td>\n",
       "      <td>1</td>\n",
       "      <td>0</td>\n",
       "    </tr>\n",
       "  </tbody>\n",
       "</table>\n",
       "</div>"
      ],
      "text/plain": [
       "   他  鉄骨  鉄骨造  ＡＬＣ  ＨＰＣ  ＰＣ  ＲＣ  ＳＲＣ\n",
       "2  0   0    0    0    0   0   1    0\n",
       "5  0   0    1    0    0   0   0    0\n",
       "6  0   0    0    0    0   0   1    0"
      ]
     },
     "execution_count": 57,
     "metadata": {},
     "output_type": "execute_result"
    }
   ],
   "source": [
    "dum2.head(3)"
   ]
  },
  {
   "cell_type": "code",
   "execution_count": 98,
   "metadata": {},
   "outputs": [],
   "source": [
    "X1 = dat[['マンション最上階数', '最寄駅までの距離', 'year']]\n",
    "# X1 = X1.join(dum).join(dum2).values"
   ]
  },
  {
   "cell_type": "code",
   "execution_count": 99,
   "metadata": {},
   "outputs": [],
   "source": [
    "x = kriging.sm.add_constant(X1).values"
   ]
  },
  {
   "cell_type": "code",
   "execution_count": 100,
   "metadata": {},
   "outputs": [],
   "source": [
    "x_reg = kriging.sm.add_constant(X1).values"
   ]
  },
  {
   "cell_type": "code",
   "execution_count": 101,
   "metadata": {},
   "outputs": [],
   "source": [
    "y1 = Y[:, 0:1]"
   ]
  },
  {
   "cell_type": "code",
   "execution_count": 102,
   "metadata": {},
   "outputs": [],
   "source": [
    "resid = pd.DataFrame(kriging.sm.OLS(y1, x).fit().resid)"
   ]
  },
  {
   "cell_type": "code",
   "execution_count": 103,
   "metadata": {},
   "outputs": [],
   "source": [
    "mod = kriging.sm.OLS(y1, x).fit()\n",
    "params = mod.params.T"
   ]
  },
  {
   "cell_type": "code",
   "execution_count": 104,
   "metadata": {},
   "outputs": [],
   "source": [
    "coords = dat[['物件経度', '物件緯度']].reset_index(drop=True)"
   ]
  },
  {
   "cell_type": "code",
   "execution_count": 105,
   "metadata": {},
   "outputs": [],
   "source": [
    "resid = coords.join(resid).values"
   ]
  },
  {
   "cell_type": "code",
   "execution_count": 118,
   "metadata": {},
   "outputs": [],
   "source": [
    "vario = variogram.get_diff(resid)"
   ]
  },
  {
   "cell_type": "code",
   "execution_count": 106,
   "metadata": {},
   "outputs": [
    {
     "data": {
      "text/plain": [
       "(array([[ 0.00173049,  0.00255086,  0.00178922, ...,  0.00016657,\n",
       "          0.00313474,  0.00327072],\n",
       "        [ 0.00087598,  0.01011217,  0.00181581, ...,  0.00075032,\n",
       "          0.000183  ,  0.00019222]]),\n",
       " [139.5840681, 139.6857909],\n",
       " [35.593269790000001, 35.682643509999998])"
      ]
     },
     "execution_count": 106,
     "metadata": {},
     "output_type": "execute_result"
    }
   ],
   "source": [
    "vario"
   ]
  },
  {
   "cell_type": "code",
   "execution_count": 120,
   "metadata": {},
   "outputs": [
    {
     "data": {
      "text/plain": [
       "array([  6.79454857e-05,   5.91257189e-04,   2.65400549e-04, ...,\n",
       "         1.69124047e-04,   3.66278344e-05,   4.83397142e-05])"
      ]
     },
     "execution_count": 120,
     "metadata": {},
     "output_type": "execute_result"
    }
   ],
   "source": [
    "vario[0][1]"
   ]
  },
  {
   "cell_type": "code",
   "execution_count": 122,
   "metadata": {},
   "outputs": [
    {
     "data": {
      "text/plain": [
       "<matplotlib.collections.PathCollection at 0x1193f9a20>"
      ]
     },
     "execution_count": 122,
     "metadata": {},
     "output_type": "execute_result"
    },
    {
     "data": {
      "image/png": "[encoded data removed]",
      "text/plain": [
       "<matplotlib.figure.Figure at 0x119235390>"
      ]
     },
     "metadata": {},
     "output_type": "display_data"
    }
   ],
   "source": [
    "plt.scatter(vario[0][0], vario[0][1])"
   ]
  },
  {
   "cell_type": "code",
   "execution_count": 123,
   "metadata": {},
   "outputs": [
    {
     "data": {
      "text/plain": [
       "(array([[ 0.00198992,  0.00391574,  0.00584156,  0.00776738,  0.0096932 ,\n",
       "          0.01161902,  0.01354484,  0.01547066,  0.01739648,  0.0193223 ,\n",
       "          0.02124812],\n",
       "        [ 0.00137508,  0.00165922,  0.00195148,  0.0022713 ,  0.00282592,\n",
       "          0.00300642,  0.00377291,  0.00370615,  0.00410231,  0.00468011,\n",
       "          0.00464944]]),\n",
       " array([  186.,   474.,   656.,   839.,   998.,  1103.,  1091.,  1224.,\n",
       "         1244.,  1288.,  1230.]))"
      ]
     },
     "execution_count": 123,
     "metadata": {},
     "output_type": "execute_result"
    }
   ],
   "source": [
    "variogram.emp_variogram(vario[0], 11)"
   ]
  },
  {
   "cell_type": "code",
   "execution_count": 124,
   "metadata": {},
   "outputs": [
    {
     "name": "stdout",
     "output_type": "stream",
     "text": [
      "[ 0.          0.00259699  0.00519399  0.00779098  0.01038797  0.01298496\n",
      "  0.01558196  0.01817895  0.02077594  0.02337294]\n",
      "0.00610279423999 0.0150621087835\n"
     ]
    },
    {
     "data": {
      "image/png": "[encoded data removed]",
      "text/plain": [
       "<matplotlib.figure.Figure at 0x1196233c8>"
      ]
     },
     "metadata": {},
     "output_type": "display_data"
    }
   ],
   "source": [
    "param, lag, fig = variogram.auto_vario(vario[0], 11, 2)"
   ]
  },
  {
   "cell_type": "code",
   "execution_count": 499,
   "metadata": {},
   "outputs": [],
   "source": [
    "distance_mat = kriging.calc_distance_matrix(coords, ['物件経度', '物件緯度'])\n",
    "efrange, c0 = kriging.calc_c0(param, distance_mat)"
   ]
  },
  {
   "cell_type": "code",
   "execution_count": 500,
   "metadata": {},
   "outputs": [
    {
     "name": "stdout",
     "output_type": "stream",
     "text": [
      "0.0005228288346280024\n"
     ]
    }
   ],
   "source": [
    "print(c0)"
   ]
  },
  {
   "cell_type": "code",
   "execution_count": 501,
   "metadata": {},
   "outputs": [
    {
     "name": "stdout",
     "output_type": "stream",
     "text": [
      "0.0100402332173935\n"
     ]
    }
   ],
   "source": [
    "covariance_mat = kriging.est_covariance_matrix(distance_mat, param, c0)"
   ]
  },
  {
   "cell_type": "markdown",
   "metadata": {},
   "source": [
    "## 時空間krigingの実装 "
   ]
  },
  {
   "cell_type": "code",
   "execution_count": 502,
   "metadata": {
    "slideshow": {
     "slide_type": "-"
    }
   },
   "outputs": [],
   "source": [
    "# Settings\n",
    "nt = 12\n",
    "n = 196\n",
    "SigP = np.identity(n+4) # 状態変数のpriorの分散\n",
    "SigX = np.identity(n+4) # 状態方程式の攪乱項の分散\n",
    "SigY = np.identity(n) # 観測方程式の攪乱項の分散\n",
    "F = np.identity(n)\n",
    "F = np.hstack([F, x_reg]) # 状態変数と観測値の関係式. Local level + Regression"
   ]
  },
  {
   "cell_type": "code",
   "execution_count": 503,
   "metadata": {},
   "outputs": [],
   "source": [
    "params = params.reshape(4, 1)"
   ]
  },
  {
   "cell_type": "code",
   "execution_count": 504,
   "metadata": {},
   "outputs": [],
   "source": [
    "y_pred_list = []\n",
    "state_est_list = []\n",
    "for t in range(2, nt+1):\n",
    "    y = Y[:, t-1].reshape(n, 1)\n",
    "    if t == 2:\n",
    "        x = np.vstack([resid[:, 2:], params])\n",
    "        SigP[0:n, 0:n] = covariance_mat # 状態変数に空間相関を想定\n",
    "    else:\n",
    "        x = x1\n",
    "        SigP = SigP1\n",
    "        F[:, -1:] = F[:, -1:] - 1\n",
    "    pred, x1, SigP1, logz, a \\\n",
    "        = kalman.kalman(y, x, SigP, SigX, SigY, F)\n",
    "    y_pred_list.append(pred)\n",
    "    state_est_list.append(x1[0:n, 0:n])"
   ]
  },
  {
   "cell_type": "code",
   "execution_count": 505,
   "metadata": {},
   "outputs": [],
   "source": [
    "# 地点10の結果を確認\n",
    "j = 10\n",
    "y_at10 = Y[j-1, :]\n",
    "y_pred_at10 = [preds[j-1] for preds in y_pred_list]"
   ]
  },
  {
   "cell_type": "code",
   "execution_count": 506,
   "metadata": {},
   "outputs": [],
   "source": [
    "index = np.linspace(1, 12, 12)"
   ]
  },
  {
   "cell_type": "code",
   "execution_count": 507,
   "metadata": {},
   "outputs": [
    {
     "data": {
      "text/plain": [
       "<matplotlib.legend.Legend at 0x1341ad940>"
      ]
     },
     "execution_count": 507,
     "metadata": {},
     "output_type": "execute_result"
    },
    {
     "data": {
      "image/png": "[encoded data removed]",
      "text/plain": [
       "<Figure size 720x720 with 1 Axes>"
      ]
     },
     "metadata": {
      "needs_background": "light"
     },
     "output_type": "display_data"
    }
   ],
   "source": [
    "fig = plt.figure(figsize=(10, 10))\n",
    "ax = fig.add_subplot(1, 1, 1)\n",
    "ax.plot(index, y_at10, color='black', label='observed values')\n",
    "ax.plot(index[1:], y_pred_at10, color='red', label='filtered values')\n",
    "ax.set_title('result of kalman filter in python at point 10')\n",
    "ax.set_xlabel('time')\n",
    "ax.set_ylabel('value')\n",
    "ax.legend()"
   ]
  },
  {
   "cell_type": "code",
   "execution_count": 508,
   "metadata": {},
   "outputs": [],
   "source": [
    "fig.savefig('/Users/LOng/sengokulab/LDAT_LS_2019/data/dev/plot/res_sptemp_kriging.png')"
   ]
  },
  {
   "cell_type": "code",
   "execution_count": 317,
   "metadata": {},
   "outputs": [],
   "source": [
    "state_at10 = [preds[j-1] for preds in state_est_list]"
   ]
  },
  {
   "cell_type": "code",
   "execution_count": 318,
   "metadata": {},
   "outputs": [
    {
     "data": {
      "text/plain": [
       "[<matplotlib.lines.Line2D at 0x12a21c630>]"
      ]
     },
     "execution_count": 318,
     "metadata": {},
     "output_type": "execute_result"
    },
    {
     "data": {
      "image/png": "[encoded data removed]",
      "text/plain": [
       "<Figure size 432x288 with 1 Axes>"
      ]
     },
     "metadata": {
      "needs_background": "light"
     },
     "output_type": "display_data"
    }
   ],
   "source": [
    "plt.plot(index[1:], state_at10)"
   ]
  },
  {
   "cell_type": "code",
   "execution_count": 73,
   "metadata": {},
   "outputs": [
    {
     "data": {
      "text/plain": [
       "array([1838,  701, 2222, 1134, 2336,  231, 1943, 3773,  385, 3364,  264,\n",
       "       1583, 2907, 1024,  163, 3098, 1214, 1903, 2996, 1686, 2719, 3713,\n",
       "       1885, 2307,  259, 1378, 1140,  164, 2474,  366, 1044, 1257, 2181,\n",
       "       2776, 1023, 3155,  694,  741, 3331, 1175, 3120, 2910,  670, 1241,\n",
       "       1927,  652, 3588,  240,  923,  204, 3695,  714, 3836,  427, 3765,\n",
       "        238, 3722, 2803,   43, 1798,  711, 2560,  563,  674, 2912, 3095,\n",
       "       1472, 1735,  786,  800,    2, 3750, 3340, 1600,  894,  764, 3144,\n",
       "       1795, 3469,  894, 2010,  131, 1254, 2502, 3718, 2452,  826, 2050,\n",
       "        981,  175, 1535, 3764, 3642,  110, 1618,  254, 1616, 2361, 3755,\n",
       "       1313, 3562,   69, 3293, 1103, 3161,  493, 3061, 1304,  356, 2748,\n",
       "        889, 2880, 1469, 1101, 1548,  710, 1137, 2609,  131,  928, 3187,\n",
       "       1713, 3811, 2445,   75, 3089,   68, 3543, 2351,  330, 2470, 2676,\n",
       "       3317,  870, 2480, 1572, 1501,  793,  547, 3527,  960, 1856, 1032,\n",
       "       3011, 2822, 3173, 3068, 3463,  947, 3533,   82, 2424, 1553, 3843,\n",
       "       3198, 3336,   47, 1579, 3773, 1795,  300, 2123, 2353, 1074, 3210,\n",
       "       1195,  719,  987, 3174,  574, 3555, 2386, 3837, 3390, 1397, 2467,\n",
       "        341,  924,  955, 2273, 1113,  458, 1537,  506, 3477,  921, 3722,\n",
       "       2680, 1449, 1037, 3763, 3394, 2258, 1236, 1671, 2856,  312,  341,\n",
       "       2085, 1454])"
      ]
     },
     "execution_count": 73,
     "metadata": {},
     "output_type": "execute_result"
    }
   ],
   "source": [
    "np.random.randint(0, 3852, 200)"
   ]
  },
  {
   "cell_type": "code",
   "execution_count": null,
   "metadata": {},
   "outputs": [],
   "source": []
  }
 ],
 "metadata": {
  "kernelspec": {
   "display_name": "Python 3",
   "language": "python",
   "name": "python3"
  },
  "language_info": {
   "codemirror_mode": {
    "name": "ipython",
    "version": 3
   },
   "file_extension": ".py",
   "mimetype": "text/x-python",
   "name": "python",
   "nbconvert_exporter": "python",
   "pygments_lexer": "ipython3",
   "version": "3.6.3"
  }
 },
 "nbformat": 4,
 "nbformat_minor": 2
}
